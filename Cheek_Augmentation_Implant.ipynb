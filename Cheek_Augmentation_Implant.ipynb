{
 "cells": [
  {
   "cell_type": "code",
   "execution_count": 1,
   "id": "37493a4b",
   "metadata": {
    "_cell_guid": "b1076dfc-b9ad-4769-8c92-a6c4dae69d19",
    "_uuid": "8f2839f25d086af736a60e9eeb907d3b93b6e0e5",
    "execution": {
     "iopub.execute_input": "2025-02-16T13:38:15.424227Z",
     "iopub.status.busy": "2025-02-16T13:38:15.423250Z",
     "iopub.status.idle": "2025-02-16T13:38:16.395656Z",
     "shell.execute_reply": "2025-02-16T13:38:16.394008Z"
    },
    "papermill": {
     "duration": 0.978875,
     "end_time": "2025-02-16T13:38:16.398227",
     "exception": false,
     "start_time": "2025-02-16T13:38:15.419352",
     "status": "completed"
    },
    "tags": []
   },
   "outputs": [
    {
     "name": "stdout",
     "output_type": "stream",
     "text": [
      "/kaggle/input/cheek-after/cheek-augmentation-implants-7_after_images.csv\n",
      "/kaggle/input/cheek-augmentation/cheek-augmentation-implants-7_before_images.csv\n"
     ]
    }
   ],
   "source": [
    "# This Python 3 environment comes with many helpful analytics libraries installed\n",
    "# It is defined by the kaggle/python Docker image: https://github.com/kaggle/docker-python\n",
    "# For example, here's several helpful packages to load\n",
    "\n",
    "import numpy as np # linear algebra\n",
    "import pandas as pd # data processing, CSV file I/O (e.g. pd.read_csv)\n",
    "\n",
    "# Input data files are available in the read-only \"../input/\" directory\n",
    "# For example, running this (by clicking run or pressing Shift+Enter) will list all files under the input directory\n",
    "\n",
    "import os\n",
    "for dirname, _, filenames in os.walk('/kaggle/input'):\n",
    "    for filename in filenames:\n",
    "        print(os.path.join(dirname, filename))\n",
    "\n",
    "# You can write up to 20GB to the current directory (/kaggle/working/) that gets preserved as output when you create a version using \"Save & Run All\" \n",
    "# You can also write temporary files to /kaggle/temp/, but they won't be saved outside of the current session"
   ]
  },
  {
   "cell_type": "code",
   "execution_count": 2,
   "id": "0cf1d5e8",
   "metadata": {
    "execution": {
     "iopub.execute_input": "2025-02-16T13:38:16.404686Z",
     "iopub.status.busy": "2025-02-16T13:38:16.404060Z",
     "iopub.status.idle": "2025-02-16T13:38:21.026636Z",
     "shell.execute_reply": "2025-02-16T13:38:21.023419Z"
    },
    "papermill": {
     "duration": 4.629121,
     "end_time": "2025-02-16T13:38:21.029894",
     "exception": false,
     "start_time": "2025-02-16T13:38:16.400773",
     "status": "completed"
    },
    "tags": []
   },
   "outputs": [
    {
     "name": "stdout",
     "output_type": "stream",
     "text": [
      "Accuracy: 33.33%\n",
      "\n",
      "Classification Report:\n",
      "              precision    recall  f1-score   support\n",
      "\n",
      "           0       0.33      1.00      0.50         1\n",
      "           1       0.00      0.00      0.00         2\n",
      "\n",
      "    accuracy                           0.33         3\n",
      "   macro avg       0.17      0.50      0.25         3\n",
      "weighted avg       0.11      0.33      0.17         3\n",
      "\n"
     ]
    },
    {
     "name": "stderr",
     "output_type": "stream",
     "text": [
      "/opt/conda/lib/python3.10/site-packages/sklearn/metrics/_classification.py:1344: UndefinedMetricWarning: Precision and F-score are ill-defined and being set to 0.0 in labels with no predicted samples. Use `zero_division` parameter to control this behavior.\n",
      "  _warn_prf(average, modifier, msg_start, len(result))\n",
      "/opt/conda/lib/python3.10/site-packages/sklearn/metrics/_classification.py:1344: UndefinedMetricWarning: Precision and F-score are ill-defined and being set to 0.0 in labels with no predicted samples. Use `zero_division` parameter to control this behavior.\n",
      "  _warn_prf(average, modifier, msg_start, len(result))\n",
      "/opt/conda/lib/python3.10/site-packages/sklearn/metrics/_classification.py:1344: UndefinedMetricWarning: Precision and F-score are ill-defined and being set to 0.0 in labels with no predicted samples. Use `zero_division` parameter to control this behavior.\n",
      "  _warn_prf(average, modifier, msg_start, len(result))\n"
     ]
    }
   ],
   "source": [
    "\n",
    "import pandas as pd\n",
    "import numpy as np\n",
    "from sklearn.model_selection import train_test_split\n",
    "from sklearn.preprocessing import StandardScaler\n",
    "from sklearn.decomposition import PCA\n",
    "from sklearn.svm import SVC\n",
    "from sklearn.metrics import accuracy_score, classification_report\n",
    "\n",
    "# Load CSV files\n",
    "after_csv = \"/kaggle/input/cheek-after/cheek-augmentation-implants-7_after_images.csv\"\n",
    "before_csv = \"/kaggle/input/cheek-augmentation/cheek-augmentation-implants-7_before_images.csv\"\n",
    "\n",
    "\n",
    "before_data = pd.read_csv(before_csv)\n",
    "after_data = pd.read_csv(after_csv)\n",
    "\n",
    "\n",
    "# Removing NAN\n",
    "before_data.dropna(axis = 1 , inplace = True)\n",
    "after_data.dropna(axis = 1 , inplace = True)\n",
    "\n",
    "# Assign labels (0 for before , 1 for after)\n",
    "before_data[\"Label\"] = 0\n",
    "after_data[\"Label\"] = 1\n",
    "\n",
    "# Combine data\n",
    "data = pd.concat([before_data, after_data], ignore_index=True)\n",
    "\n",
    "# Separate features and labels\n",
    "X = data.drop(columns=[\"Image_Name\", \"Label\"]).values  # Pixel values\n",
    "y = data[\"Label\"].values  # Labels\n",
    "\n",
    "# Normalize the pixel data\n",
    "scaler = StandardScaler()\n",
    "X_scaled = scaler.fit_transform(X)\n",
    "\n",
    "# Split into training and testing datasets\n",
    "X_train, X_test, y_train, y_test = train_test_split(X_scaled, y, test_size=0.2, random_state=42)\n",
    "\n",
    "'''''\n",
    "# Apply PCA for dimensionality reduction\n",
    "pca = PCA(n_components=50)  # Adjust components as needed\n",
    "X_train_pca = pca.fit_transform(X_train)\n",
    "X_test_pca = pca.transform(X_test)\n",
    "'''\n",
    "\n",
    "# Train SVM classifier\n",
    "svm = SVC(kernel=\"linear\", random_state=42)\n",
    "svm.fit(X_train, y_train)\n",
    "\n",
    "# Make predictions\n",
    "y_pred = svm.predict(X_test)\n",
    "\n",
    "# Evaluate the model\n",
    "accuracy = accuracy_score(y_test, y_pred)\n",
    "print(f\"Accuracy: {accuracy * 100:.2f}%\")\n",
    "print(\"\\nClassification Report:\")\n",
    "print(classification_report(y_test, y_pred))\n"
   ]
  },
  {
   "cell_type": "code",
   "execution_count": null,
   "id": "454abebb",
   "metadata": {
    "papermill": {
     "duration": 0.003104,
     "end_time": "2025-02-16T13:38:21.036412",
     "exception": false,
     "start_time": "2025-02-16T13:38:21.033308",
     "status": "completed"
    },
    "tags": []
   },
   "outputs": [],
   "source": []
  },
  {
   "cell_type": "code",
   "execution_count": null,
   "id": "7c9feb7f",
   "metadata": {
    "papermill": {
     "duration": 0.002876,
     "end_time": "2025-02-16T13:38:21.042619",
     "exception": false,
     "start_time": "2025-02-16T13:38:21.039743",
     "status": "completed"
    },
    "tags": []
   },
   "outputs": [],
   "source": []
  }
 ],
 "metadata": {
  "kaggle": {
   "accelerator": "none",
   "dataSources": [
    {
     "datasetId": 6268030,
     "sourceId": 10152707,
     "sourceType": "datasetVersion"
    },
    {
     "datasetId": 6268033,
     "sourceId": 10152710,
     "sourceType": "datasetVersion"
    }
   ],
   "dockerImageVersionId": 30804,
   "isGpuEnabled": false,
   "isInternetEnabled": true,
   "language": "python",
   "sourceType": "notebook"
  },
  "kernelspec": {
   "display_name": "Python 3",
   "language": "python",
   "name": "python3"
  },
  "language_info": {
   "codemirror_mode": {
    "name": "ipython",
    "version": 3
   },
   "file_extension": ".py",
   "mimetype": "text/x-python",
   "name": "python",
   "nbconvert_exporter": "python",
   "pygments_lexer": "ipython3",
   "version": "3.10.14"
  },
  "papermill": {
   "default_parameters": {},
   "duration": 9.624584,
   "end_time": "2025-02-16T13:38:21.669276",
   "environment_variables": {},
   "exception": null,
   "input_path": "__notebook__.ipynb",
   "output_path": "__notebook__.ipynb",
   "parameters": {},
   "start_time": "2025-02-16T13:38:12.044692",
   "version": "2.6.0"
  }
 },
 "nbformat": 4,
 "nbformat_minor": 5
}
